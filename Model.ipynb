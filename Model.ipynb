{
 "cells": [
  {
   "cell_type": "code",
   "execution_count": 1,
   "metadata": {},
   "outputs": [],
   "source": [
    "import pandas as pd\n",
    "import numpy as np\n",
    "import matplotlib.pyplot as plt\n",
    "import seaborn as sns\n",
    "import ast\n",
    "\n",
    "from wordcloud import WordCloud, STOPWORDS\n",
    "from sklearn.preprocessing import OneHotEncoder\n",
    "\n",
    "from joblib import dump,load\n",
    "#%matplotlib notebook\n",
    "%matplotlib inline\n",
    "\n",
    "import warnings\n",
    "warnings.filterwarnings('ignore')\n",
    "\n",
    "from sklearn.linear_model import LinearRegression\n",
    "from sklearn import linear_model\n",
    "from sklearn.ensemble import RandomForestRegressor\n",
    "from sklearn.preprocessing import OneHotEncoder\n",
    "from sklearn.model_selection import train_test_split\n",
    "from sklearn.metrics import  make_scorer\n",
    "from sklearn.model_selection import GridSearchCV\n",
    "from sklearn import metrics\n",
    "\n",
    "import random\n",
    "from xgboost import XGBClassifier\n",
    "from sklearn.ensemble import RandomForestRegressor"
   ]
  },
  {
   "cell_type": "code",
   "execution_count": 2,
   "metadata": {},
   "outputs": [],
   "source": [
    "X_train= load('more_feature_X_train') \n",
    "X_test= load('more_feature_X_test')\n",
    "y_train= load('more_feature_y_train')\n",
    "y_test= load('more_feature_y_test')"
   ]
  },
  {
   "cell_type": "code",
   "execution_count": 3,
   "metadata": {},
   "outputs": [],
   "source": [
    "from sklearn.metrics import  make_scorer\n",
    "from sklearn.model_selection import GridSearchCV\n",
    "from sklearn import metrics\n",
    "\n",
    "\n",
    "def mse(y, y_pred):\n",
    "    return np.mean((y_pred - y)**2) \n",
    "\n",
    "mse_scorer = make_scorer(mse, greater_is_better=False)"
   ]
  },
  {
   "cell_type": "markdown",
   "metadata": {},
   "source": [
    "## Building a Random model (Finding worst-case MSE)"
   ]
  },
  {
   "cell_type": "code",
   "execution_count": 4,
   "metadata": {},
   "outputs": [
    {
     "data": {
      "text/plain": [
       "2.1331109864253364"
      ]
     },
     "execution_count": 4,
     "metadata": {},
     "output_type": "execute_result"
    }
   ],
   "source": [
    "import random\n",
    "\n",
    "rand_pred= np.zeros(y_test.shape[0])\n",
    "for i in range(y_test.shape[0]):\n",
    "    rand_probs = round(random.uniform(1.0, 5.0),2)\n",
    "    rand_pred[i] = rand_probs\n",
    "\n",
    "mse(y_test, rand_pred)"
   ]
  },
  {
   "cell_type": "markdown",
   "metadata": {},
   "source": [
    "## Model -1 Linear Regression"
   ]
  },
  {
   "cell_type": "code",
   "execution_count": 5,
   "metadata": {},
   "outputs": [
    {
     "data": {
      "text/plain": [
       "0.12780356343784538"
      ]
     },
     "execution_count": 5,
     "metadata": {},
     "output_type": "execute_result"
    }
   ],
   "source": [
    "from sklearn.linear_model import LinearRegression\n",
    "lr = LinearRegression()\n",
    "lr.fit(X_train,y_train)\n",
    "y_pred_lr = lr.predict(X_test)\n",
    "\n",
    "mse(y_test, y_pred_lr)"
   ]
  },
  {
   "cell_type": "markdown",
   "metadata": {},
   "source": [
    "## Model - 2 SGD Regressor"
   ]
  },
  {
   "cell_type": "code",
   "execution_count": 6,
   "metadata": {},
   "outputs": [
    {
     "data": {
      "text/plain": [
       "6.231193773724774e+28"
      ]
     },
     "execution_count": 6,
     "metadata": {},
     "output_type": "execute_result"
    }
   ],
   "source": [
    "from sklearn import linear_model\n",
    "\n",
    "sgdReg = linear_model.SGDRegressor()\n",
    "sgdReg.fit(X_train,y_train)\n",
    "y_pred_sgdr = sgdReg.predict(X_test)\n",
    "\n",
    "mse(y_test, y_pred_sgdr)"
   ]
  },
  {
   "cell_type": "markdown",
   "metadata": {},
   "source": [
    "## Model - 3 GBDT Regressor"
   ]
  },
  {
   "cell_type": "code",
   "execution_count": 8,
   "metadata": {},
   "outputs": [
    {
     "data": {
      "text/plain": [
       "0.09983710407239539"
      ]
     },
     "execution_count": 8,
     "metadata": {},
     "output_type": "execute_result"
    }
   ],
   "source": [
    "from xgboost import XGBClassifier\n",
    "\n",
    "xgb = XGBClassifier(n_jobs=-1, eval_metric='rmse', random_state=1)\n",
    "xgb.fit(X_train,y_train)\n",
    "y_pred_xgb = xgb.predict(X_test)\n",
    "\n",
    "mse(y_test, y_pred_xgb)"
   ]
  },
  {
   "cell_type": "markdown",
   "metadata": {},
   "source": [
    "## Model -4 Random Forest Regressor"
   ]
  },
  {
   "cell_type": "code",
   "execution_count": 9,
   "metadata": {},
   "outputs": [
    {
     "data": {
      "text/plain": [
       "0.03503684272173387"
      ]
     },
     "execution_count": 9,
     "metadata": {},
     "output_type": "execute_result"
    }
   ],
   "source": [
    "from sklearn.ensemble import RandomForestRegressor\n",
    "\n",
    "rfr = RandomForestRegressor()\n",
    "rfr.fit(X_train,y_train)\n",
    "y_pred_rfr = rfr.predict(X_test)\n",
    "\n",
    "mse(y_test, y_pred_rfr)"
   ]
  },
  {
   "cell_type": "markdown",
   "metadata": {},
   "source": [
    "- Without any hyper param tuning RFR ie Random Forest Regressor it learning something. so let experiment on RFR."
   ]
  },
  {
   "cell_type": "markdown",
   "metadata": {},
   "source": [
    "## Hyperparam Tuning on RFR"
   ]
  },
  {
   "cell_type": "code",
   "execution_count": null,
   "metadata": {},
   "outputs": [],
   "source": [
    "tuned_parameters = {'n_estimators': [250,500,1000,1200]}\n",
    "\n",
    "grd_regressor = GridSearchCV(RandomForestRegressor(), tuned_parameters, cv=10, \n",
    "                   n_jobs=-1, verbose=1, scoring=mse_scorer)\n",
    "grd_regressor.fit(X_train, y_train)"
   ]
  },
  {
   "cell_type": "markdown",
   "metadata": {},
   "source": [
    "## After above experiment we got below result\n",
    "\n",
    "- MSE: 0.034853600229303999 == 200 (n_estimators)\n",
    "- MSE: 0.034615859400387666 ==250 (n_estimators)\n",
    "- MSE: 0.0333620113806332284 == 500 (n_estimators)\n",
    "- MSE: 0.033503516544483965 ===1000 (n_estimators)\n",
    "- MSE: 0.033083536144839625 ===1200 (n_estimators)\n",
    "\n",
    "We can clearly see that MSE values is dropping but fact is to run 1200 estimators it take more than 4.5 hours on my system(i5 7Gen, 16GB RAM), to run 1000 n_estimators is took almost 3 hours.\n",
    "\n",
    "So we can reduce MSE value further but training time is increases accordingly so I decide to stop on this experiments.\n",
    "\n",
    "Final n_estimators choose 200."
   ]
  },
  {
   "cell_type": "markdown",
   "metadata": {},
   "source": [
    "## Best Parameter Model"
   ]
  },
  {
   "cell_type": "code",
   "execution_count": 10,
   "metadata": {},
   "outputs": [
    {
     "data": {
      "text/plain": [
       "0.03478258621008979"
      ]
     },
     "execution_count": 10,
     "metadata": {},
     "output_type": "execute_result"
    }
   ],
   "source": [
    "rfr = RandomForestRegressor(max_depth=None,n_estimators=200,min_samples_split= 2)\n",
    "rfr.fit(X_train,y_train)\n",
    "y_pred_rfr = rfr.predict(X_test)\n",
    "\n",
    "mse(y_test, y_pred_rfr)"
   ]
  },
  {
   "cell_type": "code",
   "execution_count": 11,
   "metadata": {},
   "outputs": [
    {
     "data": {
      "text/html": [
       "<div>\n",
       "<style scoped>\n",
       "    .dataframe tbody tr th:only-of-type {\n",
       "        vertical-align: middle;\n",
       "    }\n",
       "\n",
       "    .dataframe tbody tr th {\n",
       "        vertical-align: top;\n",
       "    }\n",
       "\n",
       "    .dataframe thead th {\n",
       "        text-align: right;\n",
       "    }\n",
       "</style>\n",
       "<table border=\"1\" class=\"dataframe\">\n",
       "  <thead>\n",
       "    <tr style=\"text-align: right;\">\n",
       "      <th></th>\n",
       "      <th>actual</th>\n",
       "      <th>pred</th>\n",
       "    </tr>\n",
       "  </thead>\n",
       "  <tbody>\n",
       "    <tr>\n",
       "      <th>17780</th>\n",
       "      <td>3.6</td>\n",
       "      <td>3.558000</td>\n",
       "    </tr>\n",
       "    <tr>\n",
       "      <th>35810</th>\n",
       "      <td>3.8</td>\n",
       "      <td>3.777500</td>\n",
       "    </tr>\n",
       "    <tr>\n",
       "      <th>25324</th>\n",
       "      <td>4.1</td>\n",
       "      <td>4.102500</td>\n",
       "    </tr>\n",
       "    <tr>\n",
       "      <th>13990</th>\n",
       "      <td>3.5</td>\n",
       "      <td>3.460500</td>\n",
       "    </tr>\n",
       "    <tr>\n",
       "      <th>8655</th>\n",
       "      <td>3.1</td>\n",
       "      <td>3.069283</td>\n",
       "    </tr>\n",
       "    <tr>\n",
       "      <th>...</th>\n",
       "      <td>...</td>\n",
       "      <td>...</td>\n",
       "    </tr>\n",
       "    <tr>\n",
       "      <th>46443</th>\n",
       "      <td>3.9</td>\n",
       "      <td>3.900000</td>\n",
       "    </tr>\n",
       "    <tr>\n",
       "      <th>24395</th>\n",
       "      <td>4.0</td>\n",
       "      <td>3.950500</td>\n",
       "    </tr>\n",
       "    <tr>\n",
       "      <th>21119</th>\n",
       "      <td>3.7</td>\n",
       "      <td>3.620833</td>\n",
       "    </tr>\n",
       "    <tr>\n",
       "      <th>43452</th>\n",
       "      <td>4.0</td>\n",
       "      <td>3.992500</td>\n",
       "    </tr>\n",
       "    <tr>\n",
       "      <th>43432</th>\n",
       "      <td>3.7</td>\n",
       "      <td>3.702500</td>\n",
       "    </tr>\n",
       "  </tbody>\n",
       "</table>\n",
       "<p>11050 rows × 2 columns</p>\n",
       "</div>"
      ],
      "text/plain": [
       "       actual      pred\n",
       "17780     3.6  3.558000\n",
       "35810     3.8  3.777500\n",
       "25324     4.1  4.102500\n",
       "13990     3.5  3.460500\n",
       "8655      3.1  3.069283\n",
       "...       ...       ...\n",
       "46443     3.9  3.900000\n",
       "24395     4.0  3.950500\n",
       "21119     3.7  3.620833\n",
       "43452     4.0  3.992500\n",
       "43432     3.7  3.702500\n",
       "\n",
       "[11050 rows x 2 columns]"
      ]
     },
     "execution_count": 11,
     "metadata": {},
     "output_type": "execute_result"
    }
   ],
   "source": [
    "Randpred = pd.DataFrame({ \"actual\": y_test, \"pred\": y_pred_rfr })\n",
    "Randpred"
   ]
  },
  {
   "cell_type": "markdown",
   "metadata": {},
   "source": [
    "## MSE = 0.0347 , It is a good Model but can we still improve our Model?"
   ]
  },
  {
   "cell_type": "code",
   "execution_count": null,
   "metadata": {},
   "outputs": [],
   "source": []
  }
 ],
 "metadata": {
  "kernelspec": {
   "display_name": "Python 3",
   "language": "python",
   "name": "python3"
  },
  "language_info": {
   "codemirror_mode": {
    "name": "ipython",
    "version": 3
   },
   "file_extension": ".py",
   "mimetype": "text/x-python",
   "name": "python",
   "nbconvert_exporter": "python",
   "pygments_lexer": "ipython3",
   "version": "3.8.5"
  }
 },
 "nbformat": 4,
 "nbformat_minor": 4
}
